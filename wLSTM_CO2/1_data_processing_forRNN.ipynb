{
 "cells": [
  {
   "cell_type": "code",
   "execution_count": 1,
   "metadata": {
    "scrolled": true
   },
   "outputs": [
    {
     "name": "stdout",
     "output_type": "stream",
     "text": [
      "Package is ready.\n"
     ]
    }
   ],
   "source": [
    "import pandas as pd\n",
    "import numpy as np\n",
    "import os\n",
    "\n",
    "print(\"Package is ready.\")"
   ]
  },
  {
   "cell_type": "markdown",
   "metadata": {},
   "source": [
    "## Data classifying"
   ]
  },
  {
   "cell_type": "code",
   "execution_count": 2,
   "metadata": {},
   "outputs": [],
   "source": [
    "raw_df = pd.read_csv(\"../../data/BR_env/forced_env.csv\", index_col=[\"Unnamed: 0\"])\n",
    "raw_df = pd.DataFrame(raw_df, dtype=\"float\")"
   ]
  },
  {
   "cell_type": "code",
   "execution_count": 3,
   "metadata": {
    "scrolled": false
   },
   "outputs": [],
   "source": [
    "INTERVAL = '10 min'\n",
    "START_DATE = '2016-10-02 00:00'\n",
    "END_DATE = raw_df.index[-1]\n",
    "COMPRESSED_RANGE = pd.date_range(START_DATE, END_DATE, freq=INTERVAL)\n",
    "TIME_STEPS = 144\n",
    "OUTPUT_SIZE = 12\n",
    "\n",
    "EXPLANATION = \"CO2_LSTM\" \"_T\" + str(TIME_STEPS) + \"_I\" + INTERVAL"
   ]
  },
  {
   "cell_type": "code",
   "execution_count": 4,
   "metadata": {},
   "outputs": [],
   "source": [
    "weather_df = raw_df[[col for col in raw_df.columns if '.w' in col]]\n",
    "soil_df = raw_df[[col for col in raw_df.columns if 's_' in col]]\n",
    "greenhouse_df = raw_df.drop([col for col in raw_df.columns if '.w' in col], axis=1)\n",
    "greenhouse_df = greenhouse_df.drop([col for col in raw_df.columns if 's_' in col], axis=1)"
   ]
  },
  {
   "cell_type": "code",
   "execution_count": 5,
   "metadata": {},
   "outputs": [],
   "source": [
    "new_coloumns = []\n",
    "for col in greenhouse_df.columns:\n",
    "    new_coloumns.append(col.split(\".\")[0])\n",
    "greenhouse_df.columns = new_coloumns\n",
    "\n",
    "new_coloumns = []\n",
    "for col in soil_df.columns:\n",
    "    new_coloumns.append(col.split(\".\")[0])\n",
    "soil_df.columns = new_coloumns"
   ]
  },
  {
   "cell_type": "code",
   "execution_count": 6,
   "metadata": {},
   "outputs": [],
   "source": [
    "greenhouse_df = greenhouse_df.groupby(greenhouse_df.columns, axis=1, sort=False).mean()\n",
    "soil_df = soil_df.groupby(soil_df.columns, axis=1, sort=False).mean()\n",
    "\n",
    "raw_df = pd.concat([greenhouse_df, soil_df, weather_df], axis=1)"
   ]
  },
  {
   "cell_type": "code",
   "execution_count": 7,
   "metadata": {},
   "outputs": [],
   "source": [
    "raw_df.index = pd.DatetimeIndex(raw_df.index)\n",
    "raw_df = raw_df.loc[COMPRESSED_RANGE]"
   ]
  },
  {
   "cell_type": "code",
   "execution_count": 8,
   "metadata": {},
   "outputs": [],
   "source": [
    "raw_label = raw_df[[col for col in raw_df.columns if 'co2' in col]]\n",
    "raw_label.index = pd.DatetimeIndex(raw_label.index)\n",
    "raw_label = raw_label.mean(axis=1)\n",
    "raw_label = pd.DataFrame(raw_label, columns=[\"CO2\"])\n",
    "raw_label.index = pd.DatetimeIndex(raw_label.index)"
   ]
  },
  {
   "cell_type": "code",
   "execution_count": 9,
   "metadata": {},
   "outputs": [],
   "source": [
    "MAXS = raw_df.max()\n",
    "MINS = raw_df.min()\n",
    "LABELMAXS = raw_label.max()\n",
    "LABELMINS = raw_label.min()\n",
    "raw_df = (raw_df - MINS) / (MAXS - MINS)\n",
    "raw_label = (raw_label - LABELMINS) / (LABELMAXS - LABELMINS)"
   ]
  },
  {
   "cell_type": "code",
   "execution_count": 10,
   "metadata": {},
   "outputs": [],
   "source": [
    "raw_input = raw_df.copy()\n",
    "raw_input.index = pd.DatetimeIndex(raw_input.index)"
   ]
  },
  {
   "cell_type": "code",
   "execution_count": 11,
   "metadata": {},
   "outputs": [],
   "source": [
    "TRAIN_RANGE = raw_label.index\n",
    "TRAIN_RANGE = TRAIN_RANGE[TIME_STEPS:-OUTPUT_SIZE]\n",
    "\n",
    "start_input = TRAIN_RANGE - pd.Timedelta(INTERVAL*(TIME_STEPS))\n",
    "end_input = TRAIN_RANGE - pd.Timedelta(INTERVAL)\n",
    "start_output = TRAIN_RANGE\n",
    "end_output = TRAIN_RANGE + pd.Timedelta(INTERVAL*(OUTPUT_SIZE-1))"
   ]
  },
  {
   "cell_type": "code",
   "execution_count": 12,
   "metadata": {},
   "outputs": [
    {
     "name": "stdout",
     "output_type": "stream",
     "text": [
      "     0/ 87252\n",
      " 10000/ 87252\n",
      " 20000/ 87252\n",
      " 30000/ 87252\n",
      " 40000/ 87252\n",
      " 50000/ 87252\n",
      " 60000/ 87252\n",
      " 70000/ 87252\n",
      " 80000/ 87252\n",
      " 87252/ 87252\n",
      "Process ended.\n"
     ]
    }
   ],
   "source": [
    "rnn_input = []\n",
    "rnn_label = []\n",
    "\n",
    "for i in range(len(TRAIN_RANGE)):\n",
    "    input_range = pd.date_range(start_input[i], end_input[i], freq=INTERVAL)\n",
    "    label_range = pd.date_range(start_output[i], end_output[i], freq=INTERVAL)\n",
    "    \n",
    "    rnn_input.append(raw_input.loc[input_range].values)\n",
    "    rnn_label.append(raw_label.loc[label_range].values)\n",
    "    \n",
    "    \n",
    "    if i % 10000 == 0:\n",
    "        print(\"%6d/%6d\" % (i, len(TRAIN_RANGE)))\n",
    "    \n",
    "print(\"%6d/%6d\" % (i+1, len(TRAIN_RANGE)))\n",
    "print(\"Process ended.\")"
   ]
  },
  {
   "cell_type": "code",
   "execution_count": 13,
   "metadata": {},
   "outputs": [],
   "source": [
    "rnn_input = np.asarray(rnn_input)\n",
    "rnn_label = np.asarray(rnn_label)"
   ]
  },
  {
   "cell_type": "code",
   "execution_count": 14,
   "metadata": {},
   "outputs": [
    {
     "name": "stdout",
     "output_type": "stream",
     "text": [
      "Input shape: (87252, 144, 15)\n",
      "Label shape: (87252, 12, 1)\n",
      "Type: <class 'numpy.ndarray'>\n"
     ]
    }
   ],
   "source": [
    "print(\"Input shape: \", end=\"\"); print(rnn_input.shape)\n",
    "print(\"Label shape: \", end=\"\"); print(rnn_label.shape)\n",
    "print(\"Type: %s\" % type(rnn_input))"
   ]
  },
  {
   "cell_type": "code",
   "execution_count": 15,
   "metadata": {},
   "outputs": [],
   "source": [
    "f = open(\"./data/\" + EXPLANATION + \".npz\", 'wb')\n",
    "np.savez(f,\n",
    "         inputs = rnn_input, labels = rnn_label,\n",
    "         mins = MINS, maxs = MAXS, labelmins = LABELMINS, labelmaxs = LABELMAXS,\n",
    "         timesteps = TIME_STEPS, outputsize = OUTPUT_SIZE,\n",
    "         start_input = start_input, start_output = start_output,\n",
    "         end_input = end_input, end_output = end_output,\n",
    "         interval = INTERVAL, explanation = EXPLANATION)\n",
    "f.close()"
   ]
  }
 ],
 "metadata": {
  "kernelspec": {
   "display_name": "Python 3",
   "language": "python",
   "name": "python3"
  },
  "language_info": {
   "codemirror_mode": {
    "name": "ipython",
    "version": 3
   },
   "file_extension": ".py",
   "mimetype": "text/x-python",
   "name": "python",
   "nbconvert_exporter": "python",
   "pygments_lexer": "ipython3",
   "version": "3.5.2"
  }
 },
 "nbformat": 4,
 "nbformat_minor": 2
}
